{
 "cells": [
  {
   "cell_type": "markdown",
   "metadata": {},
   "source": [
    "## ToDo\n",
    "- Duplicate checking code\n",
    "    - Duplicate checking function only runs for the comment function?\n",
    "- Get selected users who have higher video counts\n",
    "- run related videos multiple times\n",
    "- related videos: run video 5 times and check for duplicates\n",
    "- unable to get user endpoint on server (different users, different configurations)\n",
    "- Differences between execution on server and local computer"
   ]
  },
  {
   "cell_type": "markdown",
   "metadata": {},
   "source": [
    "#### Related Videos\n",
    "\n",
    "Method: Random sample of 25 videos from the collected user videos ran 12x, 5x per video, stall 10 min."
   ]
  },
  {
   "cell_type": "code",
   "execution_count": 2,
   "metadata": {},
   "outputs": [],
   "source": [
    "import pandas as pd\n",
    "import os"
   ]
  },
  {
   "cell_type": "code",
   "execution_count": 26,
   "metadata": {},
   "outputs": [
    {
     "name": "stdout",
     "output_type": "stream",
     "text": [
      "63\n"
     ]
    }
   ],
   "source": [
    "df = pd.read_csv('/Users/cmoy/Documents/f24-rf/9-20-related-videos/9-20-pt2/9-20-rv-7193818726137941294.csv')\n",
    "print(len(df.drop_duplicates()))"
   ]
  },
  {
   "cell_type": "code",
   "execution_count": 28,
   "metadata": {},
   "outputs": [],
   "source": [
    "for filename in os.listdir('/Users/cmoy/Documents/f24-rf/9-20-related-videos/9-20-pt2'):\n",
    "    filepath = os.path.join('/Users/cmoy/Documents/f24-rf/9-20-related-videos/9-20-pt2', filename)\n",
    "    try:\n",
    "        df = pd.read_csv(filepath)\n",
    "        df.drop_duplicates(subset='video_id', inplace=True)\n",
    "        os.remove(filepath)\n",
    "        df.to_csv(filepath)\n",
    "    except:\n",
    "        continue"
   ]
  },
  {
   "cell_type": "code",
   "execution_count": 31,
   "metadata": {},
   "outputs": [],
   "source": [
    "for filename in os.listdir('/Users/cmoy/Documents/f24-rf/9-20-related-videos/9-20'):\n",
    "    filepath = os.path.join('/Users/cmoy/Documents/f24-rf/9-20-related-videos/9-20', filename)\n",
    "    try:\n",
    "        df = pd.read_csv(filepath)\n",
    "        df.to_csv('/Users/cmoy/Documents/f24-rf/9-20-ALL-related-videos.csv', mode='a')\n",
    "    except:\n",
    "        continue"
   ]
  },
  {
   "cell_type": "code",
   "execution_count": 43,
   "metadata": {},
   "outputs": [],
   "source": [
    "related_videos = pd.read_csv('9-20-ALL-related-videos.csv')\n",
    "related_videos = related_videos.drop(columns=related_videos.columns[:3])\n",
    "related_videos.drop_duplicates(inplace=True)"
   ]
  },
  {
   "cell_type": "code",
   "execution_count": 44,
   "metadata": {},
   "outputs": [
    {
     "data": {
      "text/plain": [
       "7407"
      ]
     },
     "execution_count": 44,
     "metadata": {},
     "output_type": "execute_result"
    }
   ],
   "source": [
    "len(related_videos)"
   ]
  },
  {
   "cell_type": "code",
   "execution_count": 45,
   "metadata": {},
   "outputs": [
    {
     "data": {
      "text/plain": [
       "author_username\n",
       "!★¡                    1\n",
       "hjt4764                1\n",
       "hku543gy               1\n",
       "hoangkim6693883        1\n",
       "honorwalklove          1\n",
       "                    ... \n",
       "Alex Warren           82\n",
       "Lele Pons             86\n",
       "Mari Maria Makeup     88\n",
       "Bella🌹🇸🇳             114\n",
       "avani                348\n",
       "Name: video_id, Length: 3328, dtype: int64"
      ]
     },
     "execution_count": 45,
     "metadata": {},
     "output_type": "execute_result"
    }
   ],
   "source": [
    "related_videos.groupby('author_username').video_id.count().sort_values()"
   ]
  },
  {
   "cell_type": "markdown",
   "metadata": {},
   "source": [
    "#### Users\n",
    "\n",
    "Method: Ran random sample of 100 influencers from 7 countries. Simultaneously ran on top 100 US influencers. 12x, stall 10 min.\n",
    "\n",
    "Spat errors, but continued to run"
   ]
  },
  {
   "cell_type": "code",
   "execution_count": 46,
   "metadata": {},
   "outputs": [],
   "source": [
    "df1 = pd.read_csv('/Users/cmoy/Documents/f24-rf/9-20-influencer-metadata-hourly.csv')\n",
    "df2 = pd.read_csv('/Users/cmoy/Documents/f24-rf/9-20-pt2-influencer-metadata-hourly.csv')\n",
    "df3 = pd.read_csv('/Users/cmoy/Documents/f24-rf/9-20-USONLY-influencer-metadata-hourly.csv')"
   ]
  },
  {
   "cell_type": "code",
   "execution_count": 51,
   "metadata": {},
   "outputs": [],
   "source": [
    "all_user_videos = pd.concat([df1, df2, df3])\n",
    "all_user_videos.drop(columns=all_user_videos.columns[:24], inplace=True)\n",
    "all_user_videos.drop_duplicates(inplace=True)"
   ]
  },
  {
   "cell_type": "code",
   "execution_count": 52,
   "metadata": {},
   "outputs": [
    {
     "data": {
      "text/plain": [
       "author_username\n",
       "itsnastynaz             1\n",
       "mr_avi_1                2\n",
       "mademoisellegloria      3\n",
       "tiktok_foot             4\n",
       "ur_smartmaker           6\n",
       "                     ... \n",
       "topperguild            82\n",
       "lelepons               92\n",
       "charlidamelio          95\n",
       "zoelaverne            107\n",
       "foodies               117\n",
       "Name: video_id, Length: 89, dtype: int64"
      ]
     },
     "execution_count": 52,
     "metadata": {},
     "output_type": "execute_result"
    }
   ],
   "source": [
    "all_user_videos.groupby('author_username').video_id.count().sort_values()"
   ]
  },
  {
   "cell_type": "code",
   "execution_count": 53,
   "metadata": {},
   "outputs": [
    {
     "data": {
      "text/plain": [
       "video_id    45.044944\n",
       "dtype: float64"
      ]
     },
     "execution_count": 53,
     "metadata": {},
     "output_type": "execute_result"
    }
   ],
   "source": [
    "all_user_videos.groupby('author_username').video_id.count().sort_values().to_frame().mean()"
   ]
  },
  {
   "cell_type": "code",
   "execution_count": null,
   "metadata": {},
   "outputs": [],
   "source": []
  }
 ],
 "metadata": {
  "kernelspec": {
   "display_name": "Python 3",
   "language": "python",
   "name": "python3"
  },
  "language_info": {
   "codemirror_mode": {
    "name": "ipython",
    "version": 3
   },
   "file_extension": ".py",
   "mimetype": "text/x-python",
   "name": "python",
   "nbconvert_exporter": "python",
   "pygments_lexer": "ipython3",
   "version": "3.12.5"
  }
 },
 "nbformat": 4,
 "nbformat_minor": 2
}
